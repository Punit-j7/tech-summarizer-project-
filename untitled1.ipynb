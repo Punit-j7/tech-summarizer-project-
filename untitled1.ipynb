{
  "nbformat": 4,
  "nbformat_minor": 0,
  "metadata": {
    "colab": {
      "provenance": [],
      "authorship_tag": "ABX9TyOeN35V6D4BcYAcHNvl+r75"
    },
    "kernelspec": {
      "name": "python3",
      "display_name": "Python 3"
    },
    "language_info": {
      "name": "python"
    }
  },
  "cells": [
    {
      "cell_type": "markdown",
      "source": [
        "1. 1.Implement weather modeling* using the quadratic solution in stages: hard-coding variables keyboard input, read from a file, for a single set of input, multiple sets of inputs.\n"
      ],
      "metadata": {
        "id": "jGJav5ARsDek"
      }
    },
    {
      "cell_type": "code",
      "source": [
        "import os\n",
        "from pathlib import Path\n",
        "import logging\n",
        "\n",
        "logging.basicConfig(level=logging.INFO,format='[%(asctime)s]: %(message)s:')\n",
        "\n",
        "project_name = \" textSummarizer\"\n",
        "\n",
        "list_of_files = [\n",
        "  \".github/workflow/.gitkeep\",\n",
        "  f\"src/{project_name}/__init__.py\",\n",
        "  f\"src/{project_name}/component/__init__.py\",\n",
        "  f\"src/{project_name}/utils/__init__.py\",\n",
        "  f\"src/{project_name}/utils/common.py\",\n",
        "  f\"src/{project_name}/logging/__init__.py\",\n",
        "  f\"src/{project_name}/config/__init__.py\",\n",
        "  f\"src/{project_name}/config/configuration/__init__.py\",\n",
        "  f\"src/{project_name}/pipeline/__init__.py\",\n",
        "  f\"src/{project_name}/entity/__init__.py\",\n",
        "  f\"src/{project_name}/constant/__init__.py\",\n",
        "  \"config/config.yaml\",\n",
        "  \"params.yaml\",\n",
        "  \"app.py\",\n",
        "  \"main.py\",\n",
        "  \"DockerFile\",\n",
        "  \"requirements.txt\",\n",
        "  \"setup.py\",\n",
        "  \"research/trials.ipynb\",\n",
        "\n",
        "\n",
        "\n",
        "\n",
        "]\n",
        "for filepath in list_of_files:\n",
        "  filepath = Path(filepath)\n",
        "  filedir, filename = os.path.split(filepath)\n",
        "\n",
        "  if filedir != \"\":\n",
        "    os.makedirs(filedir, exist_ok=True)\n",
        "    logging.info(f\"Creating directory: {filedir} for the file {filename}\")\n",
        "\n",
        "\n",
        "  if (not os.path.exists(filepath)) or (os.path.getsize(filepath) == 0) :\n",
        "\n",
        "    with open(filepath, 'w') as f:\n",
        "      pass\n",
        "      logging.info(f\"Created empty file: {filepath}\")\n",
        "\n",
        "\n",
        "\n",
        "  else:\n",
        "    logging.info(f\"File {filepath} already exists.\")\n"
      ],
      "metadata": {
        "id": "9YDGX0ePLT5y"
      },
      "execution_count": null,
      "outputs": []
    }
  ]
}